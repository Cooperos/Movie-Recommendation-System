{
 "cells": [
  {
   "cell_type": "markdown",
   "source": [
    "# Movie-Recommendation-System"
   ],
   "metadata": {
    "collapsed": false
   }
  },
  {
   "cell_type": "code",
   "execution_count": 19,
   "metadata": {
    "collapsed": true
   },
   "outputs": [
    {
     "data": {
      "text/plain": "       movieId                               title  \\\n0            1                    Toy Story (1995)   \n1            2                      Jumanji (1995)   \n2            3             Grumpier Old Men (1995)   \n3            4            Waiting to Exhale (1995)   \n4            5  Father of the Bride Part II (1995)   \n...        ...                                 ...   \n62418   209157                           We (2018)   \n62419   209159           Window of the Soul (2001)   \n62420   209163                    Bad Poems (2018)   \n62421   209169                 A Girl Thing (2001)   \n62422   209171      Women of Devil's Island (1962)   \n\n                                            genres  \n0      Adventure|Animation|Children|Comedy|Fantasy  \n1                       Adventure|Children|Fantasy  \n2                                   Comedy|Romance  \n3                             Comedy|Drama|Romance  \n4                                           Comedy  \n...                                            ...  \n62418                                        Drama  \n62419                                  Documentary  \n62420                                 Comedy|Drama  \n62421                           (no genres listed)  \n62422                       Action|Adventure|Drama  \n\n[62423 rows x 3 columns]",
      "text/html": "<div>\n<style scoped>\n    .dataframe tbody tr th:only-of-type {\n        vertical-align: middle;\n    }\n\n    .dataframe tbody tr th {\n        vertical-align: top;\n    }\n\n    .dataframe thead th {\n        text-align: right;\n    }\n</style>\n<table border=\"1\" class=\"dataframe\">\n  <thead>\n    <tr style=\"text-align: right;\">\n      <th></th>\n      <th>movieId</th>\n      <th>title</th>\n      <th>genres</th>\n    </tr>\n  </thead>\n  <tbody>\n    <tr>\n      <th>0</th>\n      <td>1</td>\n      <td>Toy Story (1995)</td>\n      <td>Adventure|Animation|Children|Comedy|Fantasy</td>\n    </tr>\n    <tr>\n      <th>1</th>\n      <td>2</td>\n      <td>Jumanji (1995)</td>\n      <td>Adventure|Children|Fantasy</td>\n    </tr>\n    <tr>\n      <th>2</th>\n      <td>3</td>\n      <td>Grumpier Old Men (1995)</td>\n      <td>Comedy|Romance</td>\n    </tr>\n    <tr>\n      <th>3</th>\n      <td>4</td>\n      <td>Waiting to Exhale (1995)</td>\n      <td>Comedy|Drama|Romance</td>\n    </tr>\n    <tr>\n      <th>4</th>\n      <td>5</td>\n      <td>Father of the Bride Part II (1995)</td>\n      <td>Comedy</td>\n    </tr>\n    <tr>\n      <th>...</th>\n      <td>...</td>\n      <td>...</td>\n      <td>...</td>\n    </tr>\n    <tr>\n      <th>62418</th>\n      <td>209157</td>\n      <td>We (2018)</td>\n      <td>Drama</td>\n    </tr>\n    <tr>\n      <th>62419</th>\n      <td>209159</td>\n      <td>Window of the Soul (2001)</td>\n      <td>Documentary</td>\n    </tr>\n    <tr>\n      <th>62420</th>\n      <td>209163</td>\n      <td>Bad Poems (2018)</td>\n      <td>Comedy|Drama</td>\n    </tr>\n    <tr>\n      <th>62421</th>\n      <td>209169</td>\n      <td>A Girl Thing (2001)</td>\n      <td>(no genres listed)</td>\n    </tr>\n    <tr>\n      <th>62422</th>\n      <td>209171</td>\n      <td>Women of Devil's Island (1962)</td>\n      <td>Action|Adventure|Drama</td>\n    </tr>\n  </tbody>\n</table>\n<p>62423 rows × 3 columns</p>\n</div>"
     },
     "execution_count": 19,
     "metadata": {},
     "output_type": "execute_result"
    }
   ],
   "source": [
    "import pandas as pd\n",
    "\n",
    "movies = pd.read_csv('../Data/movies.csv')\n",
    "movies"
   ]
  },
  {
   "cell_type": "code",
   "execution_count": 20,
   "outputs": [],
   "source": [
    "import re\n",
    "\n",
    "def clean_title(title):\n",
    "    return re.sub(\"[^a-zA-Z0-9 ]\", \"\", title)"
   ],
   "metadata": {
    "collapsed": false
   }
  },
  {
   "cell_type": "markdown",
   "source": [
    "## clean_title\n",
    "Функция удаляет все символы, которые не являются буквой, цифрой или пробелом"
   ],
   "metadata": {
    "collapsed": false
   }
  },
  {
   "cell_type": "code",
   "execution_count": 21,
   "outputs": [
    {
     "data": {
      "text/plain": "       movieId                               title  \\\n0            1                    Toy Story (1995)   \n1            2                      Jumanji (1995)   \n2            3             Grumpier Old Men (1995)   \n3            4            Waiting to Exhale (1995)   \n4            5  Father of the Bride Part II (1995)   \n...        ...                                 ...   \n62418   209157                           We (2018)   \n62419   209159           Window of the Soul (2001)   \n62420   209163                    Bad Poems (2018)   \n62421   209169                 A Girl Thing (2001)   \n62422   209171      Women of Devil's Island (1962)   \n\n                                            genres  \\\n0      Adventure|Animation|Children|Comedy|Fantasy   \n1                       Adventure|Children|Fantasy   \n2                                   Comedy|Romance   \n3                             Comedy|Drama|Romance   \n4                                           Comedy   \n...                                            ...   \n62418                                        Drama   \n62419                                  Documentary   \n62420                                 Comedy|Drama   \n62421                           (no genres listed)   \n62422                       Action|Adventure|Drama   \n\n                            clean_title  \n0                        Toy Story 1995  \n1                          Jumanji 1995  \n2                 Grumpier Old Men 1995  \n3                Waiting to Exhale 1995  \n4      Father of the Bride Part II 1995  \n...                                 ...  \n62418                           We 2018  \n62419           Window of the Soul 2001  \n62420                    Bad Poems 2018  \n62421                 A Girl Thing 2001  \n62422       Women of Devils Island 1962  \n\n[62423 rows x 4 columns]",
      "text/html": "<div>\n<style scoped>\n    .dataframe tbody tr th:only-of-type {\n        vertical-align: middle;\n    }\n\n    .dataframe tbody tr th {\n        vertical-align: top;\n    }\n\n    .dataframe thead th {\n        text-align: right;\n    }\n</style>\n<table border=\"1\" class=\"dataframe\">\n  <thead>\n    <tr style=\"text-align: right;\">\n      <th></th>\n      <th>movieId</th>\n      <th>title</th>\n      <th>genres</th>\n      <th>clean_title</th>\n    </tr>\n  </thead>\n  <tbody>\n    <tr>\n      <th>0</th>\n      <td>1</td>\n      <td>Toy Story (1995)</td>\n      <td>Adventure|Animation|Children|Comedy|Fantasy</td>\n      <td>Toy Story 1995</td>\n    </tr>\n    <tr>\n      <th>1</th>\n      <td>2</td>\n      <td>Jumanji (1995)</td>\n      <td>Adventure|Children|Fantasy</td>\n      <td>Jumanji 1995</td>\n    </tr>\n    <tr>\n      <th>2</th>\n      <td>3</td>\n      <td>Grumpier Old Men (1995)</td>\n      <td>Comedy|Romance</td>\n      <td>Grumpier Old Men 1995</td>\n    </tr>\n    <tr>\n      <th>3</th>\n      <td>4</td>\n      <td>Waiting to Exhale (1995)</td>\n      <td>Comedy|Drama|Romance</td>\n      <td>Waiting to Exhale 1995</td>\n    </tr>\n    <tr>\n      <th>4</th>\n      <td>5</td>\n      <td>Father of the Bride Part II (1995)</td>\n      <td>Comedy</td>\n      <td>Father of the Bride Part II 1995</td>\n    </tr>\n    <tr>\n      <th>...</th>\n      <td>...</td>\n      <td>...</td>\n      <td>...</td>\n      <td>...</td>\n    </tr>\n    <tr>\n      <th>62418</th>\n      <td>209157</td>\n      <td>We (2018)</td>\n      <td>Drama</td>\n      <td>We 2018</td>\n    </tr>\n    <tr>\n      <th>62419</th>\n      <td>209159</td>\n      <td>Window of the Soul (2001)</td>\n      <td>Documentary</td>\n      <td>Window of the Soul 2001</td>\n    </tr>\n    <tr>\n      <th>62420</th>\n      <td>209163</td>\n      <td>Bad Poems (2018)</td>\n      <td>Comedy|Drama</td>\n      <td>Bad Poems 2018</td>\n    </tr>\n    <tr>\n      <th>62421</th>\n      <td>209169</td>\n      <td>A Girl Thing (2001)</td>\n      <td>(no genres listed)</td>\n      <td>A Girl Thing 2001</td>\n    </tr>\n    <tr>\n      <th>62422</th>\n      <td>209171</td>\n      <td>Women of Devil's Island (1962)</td>\n      <td>Action|Adventure|Drama</td>\n      <td>Women of Devils Island 1962</td>\n    </tr>\n  </tbody>\n</table>\n<p>62423 rows × 4 columns</p>\n</div>"
     },
     "execution_count": 21,
     "metadata": {},
     "output_type": "execute_result"
    }
   ],
   "source": [
    "movies['clean_title'] = movies['title'].apply(clean_title)\n",
    "movies"
   ],
   "metadata": {
    "collapsed": false
   }
  },
  {
   "cell_type": "code",
   "execution_count": 30,
   "outputs": [],
   "source": [
    "from sklearn.feature_extraction.text import TfidfVectorizer\n",
    "\n",
    "vectorizer = TfidfVectorizer(ngram_range=(1, 2))\n",
    "\n",
    "tfidf = vectorizer.fit_transform(movies['clean_title'])"
   ],
   "metadata": {
    "collapsed": false
   }
  },
  {
   "cell_type": "code",
   "execution_count": 38,
   "outputs": [],
   "source": [
    "from sklearn.metrics.pairwise import cosine_similarity\n",
    "import numpy as np\n",
    "\n",
    "def search(title):\n",
    "    title = clean_title(title)\n",
    "    query_vec = vectorizer.transform([title])\n",
    "    similarity = cosine_similarity(query_vec, tfidf).flatten()\n",
    "    indices = np.argpartition(similarity, -5)[-5:]\n",
    "    results = movies.iloc[indices][::-1]\n",
    "    return results"
   ],
   "metadata": {
    "collapsed": false
   }
  },
  {
   "cell_type": "markdown",
   "source": [
    "## search\n",
    "Ищет наиболее похожие фильмы по названию"
   ],
   "metadata": {
    "collapsed": false
   }
  },
  {
   "cell_type": "code",
   "execution_count": 41,
   "outputs": [
    {
     "data": {
      "text/plain": "Text(value='Toy Story', description='Movie Title:')",
      "application/vnd.jupyter.widget-view+json": {
       "version_major": 2,
       "version_minor": 0,
       "model_id": "e4478c2fd46e42d2a994b0bc7e22f9ca"
      }
     },
     "metadata": {},
     "output_type": "display_data"
    },
    {
     "data": {
      "text/plain": "Output()",
      "application/vnd.jupyter.widget-view+json": {
       "version_major": 2,
       "version_minor": 0,
       "model_id": "465dfd1b494c4f65b1c67f0fb7637205"
      }
     },
     "metadata": {},
     "output_type": "display_data"
    }
   ],
   "source": [
    "import ipywidgets as widgets\n",
    "from IPython.display import display\n",
    "\n",
    "movie_input = widgets.Text(\n",
    "    value='Toy Story',\n",
    "    description='Movie Title:',\n",
    "    disabled=False\n",
    ")\n",
    "\n",
    "movie_list = widgets.Output()\n",
    "\n",
    "def on_type(data):\n",
    "    with movie_list:\n",
    "        movie_list.clear_output()\n",
    "        title = data['new']\n",
    "        if len(title) > 5:\n",
    "            display(search(title))\n",
    "\n",
    "movie_input.observe(on_type, names='value')\n",
    "\n",
    "display(movie_input, movie_list)"
   ],
   "metadata": {
    "collapsed": false
   }
  },
  {
   "cell_type": "code",
   "execution_count": 42,
   "outputs": [],
   "source": [
    "ratings = pd.read_csv('../Data/ratings.csv')"
   ],
   "metadata": {
    "collapsed": false
   }
  },
  {
   "cell_type": "markdown",
   "source": [
    "## Ratings\n",
    "\n",
    "Для предложения фильмов по рейтингу будем использовать принцип пересечения.\n",
    "При просмотре фильма А, найдем пользователей, которые поставили хорошую оценку как фильму А, так и фильму Б, предложим фильм Б"
   ],
   "metadata": {
    "collapsed": false
   }
  },
  {
   "cell_type": "code",
   "execution_count": 62,
   "outputs": [],
   "source": [
    "def find_similat_movies(movie_id):\n",
    "    similar_users = ratings[(ratings['movieId'] == movie_id) & (ratings['rating'] >= 5)]['userId'].unique()\n",
    "    similar_user_recs = ratings[(ratings['userId'].isin(similar_users)) & (ratings['rating'] > 4)]['movieId']\n",
    "\n",
    "    similar_user_recs = similar_user_recs.value_counts() / len(similar_users)\n",
    "    similar_user_recs = similar_user_recs[similar_user_recs > .1]\n",
    "\n",
    "    all_users = ratings[(ratings['movieId'].isin(similar_user_recs.index)) & (ratings['rating'] > 4)]\n",
    "    all_users_recs = all_users['movieId'].value_counts() / len(all_users['userId'].unique())\n",
    "\n",
    "    rec_precentages = pd.concat([similar_user_recs, all_users_recs], axis=1)\n",
    "    rec_precentages.columns = ['similar', 'all']\n",
    "\n",
    "    rec_precentages['score'] = rec_precentages['similar'] / rec_precentages['all']\n",
    "\n",
    "    rec_precentages = rec_precentages.sort_values('score', ascending=False)\n",
    "    return rec_precentages.head(10).merge(movies, left_index=True, right_on='movieId')[['score', 'title', 'genres']]"
   ],
   "metadata": {
    "collapsed": false
   }
  },
  {
   "cell_type": "code",
   "execution_count": 66,
   "outputs": [
    {
     "data": {
      "text/plain": "Text(value='', description='Movie Title:')",
      "application/vnd.jupyter.widget-view+json": {
       "version_major": 2,
       "version_minor": 0,
       "model_id": "e46a0f0cbb2e4ff4b8fab8734fcc7c39"
      }
     },
     "metadata": {},
     "output_type": "display_data"
    },
    {
     "data": {
      "text/plain": "Output()",
      "application/vnd.jupyter.widget-view+json": {
       "version_major": 2,
       "version_minor": 0,
       "model_id": "5b37aff7589b409b8802e38cf0f9bb8e"
      }
     },
     "metadata": {},
     "output_type": "display_data"
    }
   ],
   "source": [
    "movie_input_name = widgets.Text(\n",
    "    value=None,\n",
    "    description='Movie Title:',\n",
    "    disabled=False\n",
    ")\n",
    "\n",
    "recommendation_list = widgets.Output()\n",
    "\n",
    "def on_type(data):\n",
    "    with recommendation_list:\n",
    "        recommendation_list.clear_output()\n",
    "        title = data['new']\n",
    "        if len(title) > 5:\n",
    "            results = search(title)\n",
    "            movie_id = results.iloc[0]['movieId']\n",
    "            display(find_similat_movies(movie_id))\n",
    "\n",
    "movie_input_name.observe(on_type, names='value')\n",
    "display(movie_input_name, recommendation_list)"
   ],
   "metadata": {
    "collapsed": false
   }
  },
  {
   "cell_type": "code",
   "execution_count": null,
   "outputs": [],
   "source": [],
   "metadata": {
    "collapsed": false
   }
  }
 ],
 "metadata": {
  "kernelspec": {
   "display_name": "Python 3",
   "language": "python",
   "name": "python3"
  },
  "language_info": {
   "codemirror_mode": {
    "name": "ipython",
    "version": 2
   },
   "file_extension": ".py",
   "mimetype": "text/x-python",
   "name": "python",
   "nbconvert_exporter": "python",
   "pygments_lexer": "ipython2",
   "version": "2.7.6"
  }
 },
 "nbformat": 4,
 "nbformat_minor": 0
}
